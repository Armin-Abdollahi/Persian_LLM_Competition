{
  "nbformat": 4,
  "nbformat_minor": 0,
  "metadata": {
    "colab": {
      "provenance": [],
      "authorship_tag": "ABX9TyP1CayMBhhJUA/3S7rasi/M",
      "include_colab_link": true
    },
    "kernelspec": {
      "name": "python3",
      "display_name": "Python 3"
    },
    "language_info": {
      "name": "python"
    }
  },
  "cells": [
    {
      "cell_type": "markdown",
      "metadata": {
        "id": "view-in-github",
        "colab_type": "text"
      },
      "source": [
        "<a href=\"https://colab.research.google.com/github/Armin-Abdollahi/Persian_LLM_Competition/blob/main/Question_06.ipynb\" target=\"_parent\"><img src=\"https://colab.research.google.com/assets/colab-badge.svg\" alt=\"Open In Colab\"/></a>"
      ]
    },
    {
      "cell_type": "code",
      "execution_count": 1,
      "metadata": {
        "colab": {
          "base_uri": "https://localhost:8080/"
        },
        "id": "J4CeWgLnrvca",
        "outputId": "169e6b5b-ef04-41d9-9a14-4cb091804ac4"
      },
      "outputs": [
        {
          "output_type": "stream",
          "name": "stdout",
          "text": [
            "Mounted at ../content/drive\n"
          ]
        }
      ],
      "source": [
        "from google.colab import drive\n",
        "drive.mount('../content/drive')"
      ]
    },
    {
      "cell_type": "code",
      "source": [
        "import pandas as pd\n",
        "import re\n",
        "from collections import Counter\n",
        "\n",
        "# Load the CSV file (replace with your actual file path)\n",
        "df = pd.read_csv(\"/content/drive/MyDrive/Quera/qoura_questions.csv\")\n",
        "\n",
        "# Function to extract words from a sentence\n",
        "def extract_words(sentence):\n",
        "    return re.findall(r'\\b\\w+\\b', sentence.lower())\n",
        "\n",
        "# Combine all questions into a single string\n",
        "all_questions = ' '.join(df['question'])\n",
        "\n",
        "# Extract words from the combined string\n",
        "all_words = extract_words(all_questions)\n",
        "\n",
        "# Count word frequencies\n",
        "word_counts = Counter(all_words)\n",
        "\n",
        "# Get the 5 most repeated words\n",
        "most_common_words = word_counts.most_common(5)\n",
        "\n",
        "# Print the results\n",
        "print(\"Top 5 most repeated words and their frequencies:\")\n",
        "for word, count in most_common_words:\n",
        "    print(f\"{word}: {count}\")\n"
      ],
      "metadata": {
        "colab": {
          "base_uri": "https://localhost:8080/"
        },
        "id": "v3N1VTEJryCN",
        "outputId": "344848a0-7104-44c0-d6a5-f3a84b7fed6e"
      },
      "execution_count": 3,
      "outputs": [
        {
          "output_type": "stream",
          "name": "stdout",
          "text": [
            "Top 5 most repeated words and their frequencies:\n",
            "the: 912\n",
            "what: 783\n",
            "is: 605\n",
            "how: 533\n",
            "i: 496\n"
          ]
        }
      ]
    }
  ]
}
{
  "nbformat": 4,
  "nbformat_minor": 0,
  "metadata": {
    "colab": {
      "provenance": [],
      "authorship_tag": "ABX9TyOVdBG35oD6HUz1JEQEPsU5",
      "include_colab_link": true
    },
    "kernelspec": {
      "name": "python3",
      "display_name": "Python 3"
    },
    "language_info": {
      "name": "python"
    }
  },
  "cells": [
    {
      "cell_type": "markdown",
      "metadata": {
        "id": "view-in-github",
        "colab_type": "text"
      },
      "source": [
        "<a href=\"https://colab.research.google.com/github/Armin-Abdollahi/Persian_LLM_Competition/blob/main/Question_07.ipynb\" target=\"_parent\"><img src=\"https://colab.research.google.com/assets/colab-badge.svg\" alt=\"Open In Colab\"/></a>"
      ]
    },
    {
      "cell_type": "code",
      "execution_count": 1,
      "metadata": {
        "colab": {
          "base_uri": "https://localhost:8080/"
        },
        "id": "-JLuCpx6srid",
        "outputId": "8a7dfc21-2918-4bc6-befd-ed997dcc708f"
      },
      "outputs": [
        {
          "output_type": "stream",
          "name": "stdout",
          "text": [
            "Mounted at ../content/drive\n"
          ]
        }
      ],
      "source": [
        "from google.colab import drive\n",
        "drive.mount('../content/drive')"
      ]
    },
    {
      "cell_type": "code",
      "source": [
        "import pandas as pd\n",
        "import re\n",
        "from collections import Counter\n",
        "\n",
        "# Load the CSV file (replace with your actual file path)\n",
        "df = pd.read_csv(\"/content/drive/MyDrive/Quera/qoura_questions.csv\")\n",
        "\n",
        "# Function to extract words from a sentence\n",
        "def extract_words(sentence):\n",
        "    return re.findall(r'\\b\\w+\\b', sentence.lower())\n",
        "\n",
        "# Combine all questions into a single string\n",
        "all_questions = ' '.join(df['question'])\n",
        "\n",
        "# Extract words from the combined string\n",
        "all_words = extract_words(all_questions)\n",
        "\n",
        "# Count word frequencies\n",
        "word_counts = Counter(all_words)\n",
        "\n",
        "# Find words that appear only once\n",
        "unique_words = [word for word, count in word_counts.items() if count == 1]\n",
        "\n",
        "# Total number of unique words that appear only once\n",
        "total_unique_words_once = len(unique_words)\n",
        "\n",
        "print(f\"Total number of unique words that appear only once: {total_unique_words_once}\")\n"
      ],
      "metadata": {
        "colab": {
          "base_uri": "https://localhost:8080/"
        },
        "id": "KyDXVb8fsvxm",
        "outputId": "5ba66e35-2d02-4924-9fab-0083330f89e6"
      },
      "execution_count": 2,
      "outputs": [
        {
          "output_type": "stream",
          "name": "stdout",
          "text": [
            "Total number of unique words that appear only once: 2823\n"
          ]
        }
      ]
    }
  ]
}
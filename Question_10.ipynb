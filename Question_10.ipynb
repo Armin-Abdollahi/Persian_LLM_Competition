{
  "nbformat": 4,
  "nbformat_minor": 0,
  "metadata": {
    "colab": {
      "provenance": [],
      "authorship_tag": "ABX9TyN4T5RrNW0G/LZ5ePBU7vTd",
      "include_colab_link": true
    },
    "kernelspec": {
      "name": "python3",
      "display_name": "Python 3"
    },
    "language_info": {
      "name": "python"
    }
  },
  "cells": [
    {
      "cell_type": "markdown",
      "metadata": {
        "id": "view-in-github",
        "colab_type": "text"
      },
      "source": [
        "<a href=\"https://colab.research.google.com/github/Armin-Abdollahi/Persian_LLM_Competition/blob/main/Question_10.ipynb\" target=\"_parent\"><img src=\"https://colab.research.google.com/assets/colab-badge.svg\" alt=\"Open In Colab\"/></a>"
      ]
    },
    {
      "cell_type": "code",
      "source": [
        "from google.colab import drive\n",
        "drive.mount('../content/drive')"
      ],
      "metadata": {
        "colab": {
          "base_uri": "https://localhost:8080/"
        },
        "id": "_uqyzZlYYVjT",
        "outputId": "05043d88-5d20-478d-e02d-e93292b90150"
      },
      "execution_count": 1,
      "outputs": [
        {
          "output_type": "stream",
          "name": "stdout",
          "text": [
            "Mounted at ../content/drive\n"
          ]
        }
      ]
    },
    {
      "cell_type": "code",
      "execution_count": 2,
      "metadata": {
        "colab": {
          "base_uri": "https://localhost:8080/"
        },
        "id": "pBo34W27YT9x",
        "outputId": "b401645d-9692-40dc-8024-fafc060d44c5"
      },
      "outputs": [
        {
          "output_type": "stream",
          "name": "stdout",
          "text": [
            "Validation Accuracy: 0.14\n"
          ]
        }
      ],
      "source": [
        "import pandas as pd\n",
        "from sklearn.feature_extraction.text import TfidfVectorizer\n",
        "from sklearn.linear_model import LogisticRegression\n",
        "from sklearn.metrics import accuracy_score\n",
        "\n",
        "# Load the training and validation data\n",
        "train_data = pd.read_csv(\"/content/drive/MyDrive/Quera/Dataset_For_Question10/train.csv\")\n",
        "val_data = pd.read_csv(\"/content/drive/MyDrive/Quera/Dataset_For_Question10/val.csv\")\n",
        "\n",
        "# Combine paragraphs from both columns\n",
        "train_text = train_data[\"paragraph 1\"] + \" \" + train_data[\"paragraph 2\"]\n",
        "val_text = val_data[\"paragraph 1\"] + \" \" + val_data[\"paragraph 2\"]\n",
        "\n",
        "# Create TF-IDF vectors for the combined text\n",
        "vectorizer = TfidfVectorizer()\n",
        "train_vectors = vectorizer.fit_transform(train_text)\n",
        "val_vectors = vectorizer.transform(val_text)\n",
        "\n",
        "# Train a logistic regression model\n",
        "model = LogisticRegression()\n",
        "model.fit(train_vectors, train_data[\"label\"])\n",
        "\n",
        "# Predict on validation data\n",
        "val_predictions = model.predict(val_vectors)\n",
        "\n",
        "# Evaluate accuracy on validation data\n",
        "val_accuracy = accuracy_score(val_data[\"label\"], val_predictions)\n",
        "print(f\"Validation Accuracy: {val_accuracy:.2f}\")\n",
        "\n",
        "# Load the test data\n",
        "test_data = pd.read_csv(\"/content/drive/MyDrive/Quera/Dataset_For_Question10/test.csv\")\n",
        "test_text = test_data[\"paragraph 1\"] + \" \" + test_data[\"paragraph 2\"]\n",
        "test_vectors = vectorizer.transform(test_text)\n",
        "\n",
        "# Predict on test data\n",
        "test_predictions = model.predict(test_vectors)\n",
        "\n",
        "# Save predictions or use them as needed\n",
        "# ...\n",
        "\n",
        "# Note: You can fine-tune the model, explore other algorithms, and preprocess the text further.\n"
      ]
    }
  ]
}
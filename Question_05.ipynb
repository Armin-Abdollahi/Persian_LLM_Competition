{
  "nbformat": 4,
  "nbformat_minor": 0,
  "metadata": {
    "colab": {
      "provenance": [],
      "authorship_tag": "ABX9TyMgF/mxjxEzMsaMFZRqYrrb",
      "include_colab_link": true
    },
    "kernelspec": {
      "name": "python3",
      "display_name": "Python 3"
    },
    "language_info": {
      "name": "python"
    }
  },
  "cells": [
    {
      "cell_type": "markdown",
      "metadata": {
        "id": "view-in-github",
        "colab_type": "text"
      },
      "source": [
        "<a href=\"https://colab.research.google.com/github/Armin-Abdollahi/Persian_LLM_Competition/blob/main/Question_05.ipynb\" target=\"_parent\"><img src=\"https://colab.research.google.com/assets/colab-badge.svg\" alt=\"Open In Colab\"/></a>"
      ]
    },
    {
      "cell_type": "code",
      "execution_count": 1,
      "metadata": {
        "colab": {
          "base_uri": "https://localhost:8080/"
        },
        "id": "ErnKu_IwrAoI",
        "outputId": "be59bf3b-7cba-4b2c-ca3c-cb73f1c589de"
      },
      "outputs": [
        {
          "output_type": "stream",
          "name": "stdout",
          "text": [
            "Mounted at ../content/drive\n"
          ]
        }
      ],
      "source": [
        "from google.colab import drive\n",
        "drive.mount('../content/drive')"
      ]
    },
    {
      "cell_type": "code",
      "source": [
        "import pandas as pd\n",
        "import re\n",
        "\n",
        "# Load the CSV file (replace with your actual file path)\n",
        "df = pd.read_csv(\"/content/drive/MyDrive/Quera/qoura_questions.csv\")\n",
        "\n",
        "# Function to count unique emojis in a sentence\n",
        "def count_unique_emojis(sentence):\n",
        "    # Use regex to find emojis (assuming they are surrounded by spaces)\n",
        "    emojis = re.findall(r'(?<=\\s)[^\\s]+(?=\\s)', sentence)\n",
        "    return len(set(emojis))\n",
        "\n",
        "# Calculate unique emoji count for each question\n",
        "df['Emoji_Count'] = df['question'].apply(count_unique_emojis)\n",
        "\n",
        "# Total number of text emojis in the dataset\n",
        "total_emojis = df['Emoji_Count'].sum()\n",
        "\n",
        "print(f\"Total number of text emojis in the dataset: {total_emojis}\")\n"
      ],
      "metadata": {
        "colab": {
          "base_uri": "https://localhost:8080/"
        },
        "id": "dbmc3pnFrEiC",
        "outputId": "33502315-3721-4ec9-884f-396d977ef31b"
      },
      "execution_count": 2,
      "outputs": [
        {
          "output_type": "stream",
          "name": "stdout",
          "text": [
            "Total number of text emojis in the dataset: 16396\n"
          ]
        }
      ]
    }
  ]
}